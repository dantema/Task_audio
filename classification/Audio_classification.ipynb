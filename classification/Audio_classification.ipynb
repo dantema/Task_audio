{
  "nbformat": 4,
  "nbformat_minor": 0,
  "metadata": {
    "colab": {
      "provenance": [],
      "collapsed_sections": []
    },
    "kernelspec": {
      "name": "python3",
      "display_name": "Python 3"
    },
    "language_info": {
      "name": "python"
    },
    "accelerator": "GPU",
    "widgets": {
      "application/vnd.jupyter.widget-state+json": {
        "3d2723c8e5124f209301e8fc85fd69aa": {
          "model_module": "@jupyter-widgets/controls",
          "model_name": "HBoxModel",
          "model_module_version": "1.5.0",
          "state": {
            "_dom_classes": [],
            "_model_module": "@jupyter-widgets/controls",
            "_model_module_version": "1.5.0",
            "_model_name": "HBoxModel",
            "_view_count": null,
            "_view_module": "@jupyter-widgets/controls",
            "_view_module_version": "1.5.0",
            "_view_name": "HBoxView",
            "box_style": "",
            "children": [
              "IPY_MODEL_30add28ad6ca48f0973600583bef5928",
              "IPY_MODEL_3c1088773cbf4fbab3ab0b82d788a23b",
              "IPY_MODEL_307e271395b046a28d069e75a84aa6f5"
            ],
            "layout": "IPY_MODEL_52f7bfe543e34bafab4cc1e3a5627b75"
          }
        },
        "30add28ad6ca48f0973600583bef5928": {
          "model_module": "@jupyter-widgets/controls",
          "model_name": "HTMLModel",
          "model_module_version": "1.5.0",
          "state": {
            "_dom_classes": [],
            "_model_module": "@jupyter-widgets/controls",
            "_model_module_version": "1.5.0",
            "_model_name": "HTMLModel",
            "_view_count": null,
            "_view_module": "@jupyter-widgets/controls",
            "_view_module_version": "1.5.0",
            "_view_name": "HTMLView",
            "description": "",
            "description_tooltip": null,
            "layout": "IPY_MODEL_fbfbac3b4c6a471eb3dc0ed10abadcea",
            "placeholder": "​",
            "style": "IPY_MODEL_fbe56fac8ba84b67b9f5e39d4d684c19",
            "value": "Check results, epoch 0: 100%"
          }
        },
        "3c1088773cbf4fbab3ab0b82d788a23b": {
          "model_module": "@jupyter-widgets/controls",
          "model_name": "FloatProgressModel",
          "model_module_version": "1.5.0",
          "state": {
            "_dom_classes": [],
            "_model_module": "@jupyter-widgets/controls",
            "_model_module_version": "1.5.0",
            "_model_name": "FloatProgressModel",
            "_view_count": null,
            "_view_module": "@jupyter-widgets/controls",
            "_view_module_version": "1.5.0",
            "_view_name": "ProgressView",
            "bar_style": "",
            "description": "",
            "description_tooltip": null,
            "layout": "IPY_MODEL_b8a83c3ca78247f2acea4fc1a9b3db4b",
            "max": 125,
            "min": 0,
            "orientation": "horizontal",
            "style": "IPY_MODEL_3486282902a84232b9f5d3a0ab8231df",
            "value": 125
          }
        },
        "307e271395b046a28d069e75a84aa6f5": {
          "model_module": "@jupyter-widgets/controls",
          "model_name": "HTMLModel",
          "model_module_version": "1.5.0",
          "state": {
            "_dom_classes": [],
            "_model_module": "@jupyter-widgets/controls",
            "_model_module_version": "1.5.0",
            "_model_name": "HTMLModel",
            "_view_count": null,
            "_view_module": "@jupyter-widgets/controls",
            "_view_module_version": "1.5.0",
            "_view_name": "HTMLView",
            "description": "",
            "description_tooltip": null,
            "layout": "IPY_MODEL_100b89e3edb741cfabc26ae048de737f",
            "placeholder": "​",
            "style": "IPY_MODEL_d0ba57bb76fd4279a2c8ae91736c006d",
            "value": " 125/125 [00:07&lt;00:00, 17.87it/s]"
          }
        },
        "52f7bfe543e34bafab4cc1e3a5627b75": {
          "model_module": "@jupyter-widgets/base",
          "model_name": "LayoutModel",
          "model_module_version": "1.2.0",
          "state": {
            "_model_module": "@jupyter-widgets/base",
            "_model_module_version": "1.2.0",
            "_model_name": "LayoutModel",
            "_view_count": null,
            "_view_module": "@jupyter-widgets/base",
            "_view_module_version": "1.2.0",
            "_view_name": "LayoutView",
            "align_content": null,
            "align_items": null,
            "align_self": null,
            "border": null,
            "bottom": null,
            "display": null,
            "flex": null,
            "flex_flow": null,
            "grid_area": null,
            "grid_auto_columns": null,
            "grid_auto_flow": null,
            "grid_auto_rows": null,
            "grid_column": null,
            "grid_gap": null,
            "grid_row": null,
            "grid_template_areas": null,
            "grid_template_columns": null,
            "grid_template_rows": null,
            "height": null,
            "justify_content": null,
            "justify_items": null,
            "left": null,
            "margin": null,
            "max_height": null,
            "max_width": null,
            "min_height": null,
            "min_width": null,
            "object_fit": null,
            "object_position": null,
            "order": null,
            "overflow": null,
            "overflow_x": null,
            "overflow_y": null,
            "padding": null,
            "right": null,
            "top": null,
            "visibility": "hidden",
            "width": null
          }
        },
        "fbfbac3b4c6a471eb3dc0ed10abadcea": {
          "model_module": "@jupyter-widgets/base",
          "model_name": "LayoutModel",
          "model_module_version": "1.2.0",
          "state": {
            "_model_module": "@jupyter-widgets/base",
            "_model_module_version": "1.2.0",
            "_model_name": "LayoutModel",
            "_view_count": null,
            "_view_module": "@jupyter-widgets/base",
            "_view_module_version": "1.2.0",
            "_view_name": "LayoutView",
            "align_content": null,
            "align_items": null,
            "align_self": null,
            "border": null,
            "bottom": null,
            "display": null,
            "flex": null,
            "flex_flow": null,
            "grid_area": null,
            "grid_auto_columns": null,
            "grid_auto_flow": null,
            "grid_auto_rows": null,
            "grid_column": null,
            "grid_gap": null,
            "grid_row": null,
            "grid_template_areas": null,
            "grid_template_columns": null,
            "grid_template_rows": null,
            "height": null,
            "justify_content": null,
            "justify_items": null,
            "left": null,
            "margin": null,
            "max_height": null,
            "max_width": null,
            "min_height": null,
            "min_width": null,
            "object_fit": null,
            "object_position": null,
            "order": null,
            "overflow": null,
            "overflow_x": null,
            "overflow_y": null,
            "padding": null,
            "right": null,
            "top": null,
            "visibility": null,
            "width": null
          }
        },
        "fbe56fac8ba84b67b9f5e39d4d684c19": {
          "model_module": "@jupyter-widgets/controls",
          "model_name": "DescriptionStyleModel",
          "model_module_version": "1.5.0",
          "state": {
            "_model_module": "@jupyter-widgets/controls",
            "_model_module_version": "1.5.0",
            "_model_name": "DescriptionStyleModel",
            "_view_count": null,
            "_view_module": "@jupyter-widgets/base",
            "_view_module_version": "1.2.0",
            "_view_name": "StyleView",
            "description_width": ""
          }
        },
        "b8a83c3ca78247f2acea4fc1a9b3db4b": {
          "model_module": "@jupyter-widgets/base",
          "model_name": "LayoutModel",
          "model_module_version": "1.2.0",
          "state": {
            "_model_module": "@jupyter-widgets/base",
            "_model_module_version": "1.2.0",
            "_model_name": "LayoutModel",
            "_view_count": null,
            "_view_module": "@jupyter-widgets/base",
            "_view_module_version": "1.2.0",
            "_view_name": "LayoutView",
            "align_content": null,
            "align_items": null,
            "align_self": null,
            "border": null,
            "bottom": null,
            "display": null,
            "flex": null,
            "flex_flow": null,
            "grid_area": null,
            "grid_auto_columns": null,
            "grid_auto_flow": null,
            "grid_auto_rows": null,
            "grid_column": null,
            "grid_gap": null,
            "grid_row": null,
            "grid_template_areas": null,
            "grid_template_columns": null,
            "grid_template_rows": null,
            "height": null,
            "justify_content": null,
            "justify_items": null,
            "left": null,
            "margin": null,
            "max_height": null,
            "max_width": null,
            "min_height": null,
            "min_width": null,
            "object_fit": null,
            "object_position": null,
            "order": null,
            "overflow": null,
            "overflow_x": null,
            "overflow_y": null,
            "padding": null,
            "right": null,
            "top": null,
            "visibility": null,
            "width": null
          }
        },
        "3486282902a84232b9f5d3a0ab8231df": {
          "model_module": "@jupyter-widgets/controls",
          "model_name": "ProgressStyleModel",
          "model_module_version": "1.5.0",
          "state": {
            "_model_module": "@jupyter-widgets/controls",
            "_model_module_version": "1.5.0",
            "_model_name": "ProgressStyleModel",
            "_view_count": null,
            "_view_module": "@jupyter-widgets/base",
            "_view_module_version": "1.2.0",
            "_view_name": "StyleView",
            "bar_color": null,
            "description_width": ""
          }
        },
        "100b89e3edb741cfabc26ae048de737f": {
          "model_module": "@jupyter-widgets/base",
          "model_name": "LayoutModel",
          "model_module_version": "1.2.0",
          "state": {
            "_model_module": "@jupyter-widgets/base",
            "_model_module_version": "1.2.0",
            "_model_name": "LayoutModel",
            "_view_count": null,
            "_view_module": "@jupyter-widgets/base",
            "_view_module_version": "1.2.0",
            "_view_name": "LayoutView",
            "align_content": null,
            "align_items": null,
            "align_self": null,
            "border": null,
            "bottom": null,
            "display": null,
            "flex": null,
            "flex_flow": null,
            "grid_area": null,
            "grid_auto_columns": null,
            "grid_auto_flow": null,
            "grid_auto_rows": null,
            "grid_column": null,
            "grid_gap": null,
            "grid_row": null,
            "grid_template_areas": null,
            "grid_template_columns": null,
            "grid_template_rows": null,
            "height": null,
            "justify_content": null,
            "justify_items": null,
            "left": null,
            "margin": null,
            "max_height": null,
            "max_width": null,
            "min_height": null,
            "min_width": null,
            "object_fit": null,
            "object_position": null,
            "order": null,
            "overflow": null,
            "overflow_x": null,
            "overflow_y": null,
            "padding": null,
            "right": null,
            "top": null,
            "visibility": null,
            "width": null
          }
        },
        "d0ba57bb76fd4279a2c8ae91736c006d": {
          "model_module": "@jupyter-widgets/controls",
          "model_name": "DescriptionStyleModel",
          "model_module_version": "1.5.0",
          "state": {
            "_model_module": "@jupyter-widgets/controls",
            "_model_module_version": "1.5.0",
            "_model_name": "DescriptionStyleModel",
            "_view_count": null,
            "_view_module": "@jupyter-widgets/base",
            "_view_module_version": "1.2.0",
            "_view_name": "StyleView",
            "description_width": ""
          }
        }
      }
    }
  },
  "cells": [
    {
      "cell_type": "code",
      "execution_count": 1,
      "metadata": {
        "colab": {
          "base_uri": "https://localhost:8080/"
        },
        "id": "B7BdXDm2kq4P",
        "outputId": "51e8e4d6-eb7a-46e3-c87a-e80023123d18"
      },
      "outputs": [
        {
          "output_type": "stream",
          "name": "stdout",
          "text": [
            "Mounted at /content/drive\n"
          ]
        }
      ],
      "source": [
        "import functools\n",
        "from dataclasses import dataclass\n",
        "import os\n",
        "from glob import glob\n",
        "import sys\n",
        "\n",
        "import numpy as np\n",
        "import pandas as pd\n",
        "import random\n",
        "\n",
        "import torch\n",
        "import torchvision\n",
        "from torch import nn\n",
        "import torchvision.datasets as datasets\n",
        "import torchvision.transforms as transforms\n",
        "from torch.utils.data import DataLoader\n",
        "from torch.utils.data.dataset import Dataset\n",
        "from torchvision.transforms import Compose, Normalize, Resize, ToTensor, ColorJitter\n",
        "from torchvision.transforms import RandomCrop, RandomRotation, RandomHorizontalFlip, RandomVerticalFlip\n",
        "from torchvision.models import resnet18\n",
        "\n",
        "import tqdm\n",
        "from tqdm.auto import tqdm, trange\n",
        "from sklearn.metrics import accuracy_score\n",
        "\n",
        "from google.colab import drive\n",
        "drive.mount('/content/drive')\n",
        "\n",
        "from IPython.core.display import clear_output\n",
        "import cv2\n",
        "from PIL import Image"
      ]
    },
    {
      "cell_type": "code",
      "source": [
        "!pip install wandb\n",
        "!wandb login\n",
        "import wandb"
      ],
      "metadata": {
        "id": "jYqe5HmBmOpV"
      },
      "execution_count": null,
      "outputs": []
    },
    {
      "cell_type": "code",
      "source": [
        "!unrar x \"drive/MyDrive/Colab Notebooks/task_audio/train.part1.rar\"\n",
        "clear_output()"
      ],
      "metadata": {
        "id": "j1V5bmg5szzE"
      },
      "execution_count": null,
      "outputs": []
    },
    {
      "cell_type": "code",
      "source": [
        "!unrar x \"drive/MyDrive/Colab Notebooks/task_audio/val.rar\"\n",
        "clear_output()"
      ],
      "metadata": {
        "id": "9Mr6qKT48Ml8"
      },
      "execution_count": null,
      "outputs": []
    },
    {
      "cell_type": "code",
      "source": [
        "ROOT_MODEL = \"./drive/MyDrive/Colab Notebooks/task_audio\""
      ],
      "metadata": {
        "id": "UYzC-Y0F5qap"
      },
      "execution_count": 45,
      "outputs": []
    },
    {
      "cell_type": "markdown",
      "source": [
        "## Dataset, Dataloader"
      ],
      "metadata": {
        "id": "ikhQ-zwko4YR"
      }
    },
    {
      "cell_type": "code",
      "source": [
        "def set_random_seed(seed):\n",
        "    torch.backends.cudnn.deterministic = True\n",
        "    torch.manual_seed(seed)\n",
        "    torch.cuda.manual_seed(seed)\n",
        "    np.random.seed(seed)\n",
        "    random.seed(seed)\n",
        "set_random_seed(42)"
      ],
      "metadata": {
        "id": "_Pw6vDZFrFxT"
      },
      "execution_count": 5,
      "outputs": []
    },
    {
      "cell_type": "code",
      "source": [
        "keys = {\"noisy\" : 0, \"clean\" : 1}"
      ],
      "metadata": {
        "id": "HDveHlkotpdh"
      },
      "execution_count": 6,
      "outputs": []
    },
    {
      "cell_type": "code",
      "source": [
        "@dataclass(frozen=True)\n",
        "class SpectogramDataset(Dataset):\n",
        "    dirname: str\n",
        "    transform: torchvision.transforms\n",
        "    extension: str = \"npy\"\n",
        "\n",
        "    @property\n",
        "    @functools.lru_cache(1)\n",
        "    def files(self):\n",
        "        return glob(f\"{self.dirname}/**/*.{self.extension}\", recursive=True)\n",
        "\n",
        "    def __len__(self):\n",
        "        return len(self.files)\n",
        "\n",
        "    def _load_raw(self, filename: str):\n",
        "        return torch.from_numpy(np.load(filename)).unsqueeze(0)\n",
        "    \n",
        "    def _check_shape(self, img):\n",
        "        if img.shape[1] < 80:\n",
        "            n_repeats = 80 // img.shape[1] + 1\n",
        "            img = img.repeat(1, n_repeats, 1)    \n",
        "        return img\n",
        "    \n",
        "    def __getitem__(self, idx):\n",
        "        mel_file = self.files[idx]\n",
        "        mel = self._load_raw(mel_file)\n",
        "        mel = self._check_shape(mel)\n",
        "        if self.transform is not None:\n",
        "            mel = self.transform(img=mel)\n",
        "        label = keys[mel_file.split('/')[-3]]\n",
        "        return mel, label"
      ],
      "metadata": {
        "id": "Bw2y1RoevS5M"
      },
      "execution_count": 7,
      "outputs": []
    },
    {
      "cell_type": "code",
      "source": [
        "batch_size = 32\n",
        "train_transform=Compose(\n",
        "        [\n",
        "            RandomCrop(size = (80, 80)),\n",
        "            Resize((224, 224)),\n",
        "            RandomHorizontalFlip(p = 0.5)\n",
        "        ]\n",
        "    )\n",
        "val_transform = Compose(\n",
        "        [\n",
        "            RandomCrop(size = (80, 80)),\n",
        "            Resize((224, 224)),\n",
        "        ]\n",
        "    )\n",
        "\n",
        "train_dataset = SpectogramDataset(\"train\", train_transform)\n",
        "val_dataset = SpectogramDataset(\"val\", val_transform)\n",
        "\n",
        "train_dataloader = torch.utils.data.DataLoader(train_dataset, batch_size = batch_size, shuffle = True)\n",
        "val_dataloader = torch.utils.data.DataLoader(val_dataset, batch_size = batch_size, shuffle = True)"
      ],
      "metadata": {
        "id": "E9mEL9s8vn4S"
      },
      "execution_count": 8,
      "outputs": []
    },
    {
      "cell_type": "code",
      "source": [
        "next(iter(train_dataloader))[0].shape"
      ],
      "metadata": {
        "colab": {
          "base_uri": "https://localhost:8080/"
        },
        "id": "NnFP99HKv-1e",
        "outputId": "2d52cf31-3e63-4dd3-8b11-b07792750515"
      },
      "execution_count": 9,
      "outputs": [
        {
          "output_type": "execute_result",
          "data": {
            "text/plain": [
              "torch.Size([32, 1, 224, 224])"
            ]
          },
          "metadata": {},
          "execution_count": 9
        }
      ]
    },
    {
      "cell_type": "code",
      "source": [
        "for image, label in train_dataloader:\n",
        "  if image.shape != torch.Size([batch_size,1, 224, 224]):\n",
        "      print(\"not passed\")\n",
        "  break"
      ],
      "metadata": {
        "id": "fhDk1_FI0roM"
      },
      "execution_count": 10,
      "outputs": []
    },
    {
      "cell_type": "markdown",
      "source": [
        "##Model, training"
      ],
      "metadata": {
        "id": "7UTsWg-1oYR7"
      }
    },
    {
      "cell_type": "code",
      "source": [
        "best_accuracy = 0"
      ],
      "metadata": {
        "id": "9wSkieLB7WAZ"
      },
      "execution_count": null,
      "outputs": []
    },
    {
      "cell_type": "code",
      "source": [
        "def train_one_epoch(model, train_dataloader, criterion, optimizer, device=\"cuda:0\", epoch = 0):\n",
        "\n",
        "    model = model.to(device).train()\n",
        "    total_loss = 0\n",
        "    num_batches = 0\n",
        "    all_losses = []\n",
        "    total_predictions = np.array([])\n",
        "    total_labels = np.array([])\n",
        "\n",
        "    for images, labels in tqdm(train_dataloader, desc=f\"Training, epoch {epoch}\", leave=False):    \n",
        "        # Move Batch to GPU\n",
        "        images = images.to(device).float()\n",
        "        labels = labels.to(device)\n",
        "        predicted = model(images)\n",
        "\n",
        "        loss = criterion(predicted, labels)\n",
        "        accuracy = (predicted.argmax(1) == labels).float().mean()\n",
        "\n",
        "        loss.backward()\n",
        "        optimizer.step()\n",
        "        optimizer.zero_grad()\n",
        "\n",
        "        total_loss += loss.item()\n",
        "        total_predictions = np.append(total_predictions, predicted.argmax(1).cpu().detach().numpy())\n",
        "        total_labels = np.append(total_labels, labels.cpu().detach().numpy())\n",
        "        num_batches += 1 # ?\n",
        "        all_losses.append(loss.detach().item())\n",
        "\n",
        "    metrics = {\"train_loss\": total_loss / num_batches}\n",
        "    metrics.update({\"train_accuracy\": (total_predictions == total_labels).mean()})\n",
        "\n",
        "    wandb.log({\"train_loss\": metrics[\"train_loss\"]})\n",
        "    wandb.log({\"train_accuracy\": metrics[\"train_accuracy\"]})\n",
        "\n",
        "\n",
        "\n",
        "def validate(model, val_dataloader, criterion, device=\"cuda:0\", epoch = 0):\n",
        "\n",
        "    model = model.eval()\n",
        "    total_loss = 0\n",
        "    num_batches = 0\n",
        "    total_predictions = np.array([])\n",
        "    total_labels = np.array([])\n",
        "\n",
        "    with torch.no_grad():\n",
        "        for images, labels in tqdm(val_dataloader, desc=f\"Validating, epoch {epoch}\", leave=False):\n",
        "               \n",
        "            images = images.to(device).float()\n",
        "            labels = labels.to(device)\n",
        "            predicted = model(images)\n",
        "\n",
        "            loss = criterion(predicted, labels)\n",
        "            accuracy = (predicted.argmax(1) == labels).float().mean()\n",
        "\n",
        "            total_loss += loss.item()\n",
        "            total_predictions = np.append(total_predictions, predicted.argmax(1).cpu().detach().numpy())\n",
        "            total_labels = np.append(total_labels, labels.cpu().detach().numpy())\n",
        "            num_batches += 1\n",
        "\n",
        "        metrics = {\"loss\": total_loss / num_batches}\n",
        "        metrics.update({\"val_accuracy\": (total_predictions == total_labels).mean()})\n",
        "\n",
        "        wandb.log({\"val_loss\": metrics[\"loss\"]})\n",
        "        wandb.log({\"val_accuracy\": metrics[\"val_accuracy\"]})\n",
        "        \n",
        "        #Save best model\n",
        "        if metrics[\"val_accuracy\"] > best_accuracy:\n",
        "            best_accuracy = metrics[\"val_accuracy\"]\n",
        "            filename_pth = ROOT_MODEL + '/audio_classification_accuracy_{:.4f}_epoch_{}.pth'.format(\n",
        "                metrics[\"val_accuracy\"], epoch\n",
        "            )\n",
        "            torch.save(model.state_dict(), filename_pth)\n",
        "\n",
        "    return total_loss, total_predictions, total_labels\n",
        "\n",
        "\n",
        "\n",
        "def train(model, train_dataloader, val_dataloader, criterion, optimizer, device=\"cuda:0\", n_epochs=10, scheduler=None):\n",
        "    model.to(device)\n",
        "    for epoch in range(n_epochs):\n",
        "        # Train, evaluate, print accuracy\n",
        "        train_one_epoch(model, train_dataloader, criterion, optimizer, device, epoch)\n",
        "        losses, predictions, labels = validate(model, val_dataloader, criterion, device, epoch)\n",
        "        clear_output()"
      ],
      "metadata": {
        "id": "9E_avuTTfzjX"
      },
      "execution_count": 28,
      "outputs": []
    },
    {
      "cell_type": "code",
      "source": [
        "lr = 0.001\n",
        "n_epochs = 10\n",
        "\n",
        "\n",
        "model = resnet18(pretrained = True)\n",
        "\n",
        "optimizer = torch.optim.Adam(model.parameters(), lr = lr) \n",
        "criterion = nn.CrossEntropyLoss()\n",
        "\n",
        "scheduler = torch.optim.lr_scheduler.StepLR(optimizer, step_size=1, gamma=0.99) \n",
        "device = torch.device(\"cuda:0\") if torch.cuda.is_available() else torch.device(\"cpu\")"
      ],
      "metadata": {
        "id": "V9WBv2sz5n2z"
      },
      "execution_count": 33,
      "outputs": []
    },
    {
      "cell_type": "code",
      "source": [
        "model.fc = nn.Linear(512, 2)\n",
        "\n",
        "for param in model.parameters():\n",
        "    param.requires_grad = True"
      ],
      "metadata": {
        "id": "QglzAb4dxRvb"
      },
      "execution_count": 34,
      "outputs": []
    },
    {
      "cell_type": "code",
      "source": [
        "model.conv1"
      ],
      "metadata": {
        "colab": {
          "base_uri": "https://localhost:8080/"
        },
        "id": "rmoZsEaKtRtn",
        "outputId": "a8046f07-056d-47b8-e2f5-ea5d10356570"
      },
      "execution_count": 24,
      "outputs": [
        {
          "output_type": "execute_result",
          "data": {
            "text/plain": [
              "Conv2d(3, 64, kernel_size=(7, 7), stride=(2, 2), padding=(3, 3), bias=False)"
            ]
          },
          "metadata": {},
          "execution_count": 24
        }
      ]
    },
    {
      "cell_type": "code",
      "source": [
        "model.conv1 = nn.Conv2d(1, 64, kernel_size = (7,7), stride=(2, 2), padding=(3, 3), bias=False)"
      ],
      "metadata": {
        "id": "BEGrBf3Rq3ax"
      },
      "execution_count": 35,
      "outputs": []
    },
    {
      "cell_type": "code",
      "source": [
        "wandb_config = {\n",
        "  \"learning_rate\": lr,\n",
        "  \"epochs\": n_epochs,\n",
        "  \"batch_size\": batch_size\n",
        "}\n",
        "\n",
        "wandb.init(config = wandb_config, project=\"Audio_classification\", entity=\"_bro\")\n",
        "\n",
        "train(model, train_dataloader, val_dataloader, criterion, optimizer, device, n_epochs)"
      ],
      "metadata": {
        "id": "hO_QW9AtrQ_a"
      },
      "execution_count": 36,
      "outputs": []
    },
    {
      "cell_type": "code",
      "source": [
        "#train(model, train_dataloader, val_dataloader, criterion, optimizer, device, n_epochs)"
      ],
      "metadata": {
        "id": "3jFxuVeXse-3"
      },
      "execution_count": 37,
      "outputs": []
    },
    {
      "cell_type": "markdown",
      "source": [
        "##Check results"
      ],
      "metadata": {
        "id": "qoql8qYC20FE"
      }
    },
    {
      "cell_type": "code",
      "source": [
        "def check_result(model, val_dataloader, criterion, device=\"cuda:0\", epoch = 0):\n",
        "\n",
        "    model = model.eval()\n",
        "    total_loss = 0\n",
        "    num_batches = 0\n",
        "    total_predictions = np.array([])\n",
        "    total_labels = np.array([])\n",
        "\n",
        "    with torch.no_grad():\n",
        "        for images, labels in tqdm(val_dataloader, desc=f\"Check results, epoch {epoch}\", leave=False):\n",
        "               \n",
        "            images = images.to(device).float()\n",
        "            labels = labels.to(device)\n",
        "            predicted = model(images)\n",
        "\n",
        "            loss = criterion(predicted, labels)\n",
        "            accuracy = (predicted.argmax(1) == labels).float().mean()\n",
        "\n",
        "            total_loss += loss.item()\n",
        "            total_predictions = np.append(total_predictions, predicted.argmax(1).cpu().detach().numpy())\n",
        "            total_labels = np.append(total_labels, labels.cpu().detach().numpy())\n",
        "            num_batches += 1\n",
        "\n",
        "        metrics = {\"val_loss\": total_loss / num_batches}\n",
        "        metrics.update({\"val_accuracy\": (total_predictions == total_labels).mean()})\n",
        "        print(\"val_loss: \", metrics[\"val_loss\"])\n",
        "        print(\"val_accuracy: \", metrics[\"val_accuracy\"])\n",
        "\n",
        "\n",
        "    return metrics[\"val_loss\"], metrics[\"val_accuracy\"]"
      ],
      "metadata": {
        "id": "RjvpuWsoroTL"
      },
      "execution_count": 43,
      "outputs": []
    },
    {
      "cell_type": "code",
      "source": [
        "model = model\n",
        "model_link = \"https://drive.google.com/file/d/1DXOOh-NsUBfiEKOEe90pEQZ-EP_T_NVc/view?usp=sharing\"\n",
        "\n",
        "#download model...\n",
        "\n",
        "model.load_state_dict(torch.load(ROOT_MODEL + \"/mel_denoising_loss_0.0301_epoch_9.pth\"))\n",
        "test_loss, test_accuracy = check_result(model, val_dataloader, criterion, device)"
      ],
      "metadata": {
        "colab": {
          "base_uri": "https://localhost:8080/",
          "height": 52,
          "referenced_widgets": [
            "3d2723c8e5124f209301e8fc85fd69aa",
            "30add28ad6ca48f0973600583bef5928",
            "3c1088773cbf4fbab3ab0b82d788a23b",
            "307e271395b046a28d069e75a84aa6f5",
            "52f7bfe543e34bafab4cc1e3a5627b75",
            "fbfbac3b4c6a471eb3dc0ed10abadcea",
            "fbe56fac8ba84b67b9f5e39d4d684c19",
            "b8a83c3ca78247f2acea4fc1a9b3db4b",
            "3486282902a84232b9f5d3a0ab8231df",
            "100b89e3edb741cfabc26ae048de737f",
            "d0ba57bb76fd4279a2c8ae91736c006d"
          ]
        },
        "id": "vPd4htKQ3rVS",
        "outputId": "26ad6d77-5691-40a9-9ec5-aa3e67aee32f"
      },
      "execution_count": 44,
      "outputs": [
        {
          "output_type": "display_data",
          "data": {
            "text/plain": [
              "Check results, epoch 0:   0%|          | 0/125 [00:00<?, ?it/s]"
            ],
            "application/vnd.jupyter.widget-view+json": {
              "version_major": 2,
              "version_minor": 0,
              "model_id": "3d2723c8e5124f209301e8fc85fd69aa"
            }
          },
          "metadata": {}
        },
        {
          "output_type": "stream",
          "name": "stdout",
          "text": [
            "val_loss:  0.09409412302821875\n",
            "val_accuracy:  0.9705\n"
          ]
        }
      ]
    },
    {
      "cell_type": "code",
      "source": [],
      "metadata": {
        "id": "o4CXrcMZ5iRf"
      },
      "execution_count": 48,
      "outputs": []
    },
    {
      "cell_type": "code",
      "source": [],
      "metadata": {
        "id": "FeaAMizS4cGW"
      },
      "execution_count": 48,
      "outputs": []
    }
  ]
}