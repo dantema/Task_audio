{
 "cells": [
  {
   "cell_type": "code",
   "execution_count": 78,
   "id": "50a158fb",
   "metadata": {},
   "outputs": [],
   "source": [
    "def multiplicate(A):\n",
    "    # В условии не указано что возвращать в случае если длина массива 1, \n",
    "    # так как непонятно чем является произведение отсутствия чисел возвращаем пустой массив\n",
    "    if len(A) < 2:\n",
    "        return [] \n",
    "    \n",
    "    multiply = 1\n",
    "    # Проверка на присутствие нулей в списке, \n",
    "    # если их больше 2, тогда возвращаем массив из нулей, \n",
    "    # если он один, тогда возвращем список с нулями и одним\n",
    "    # произведением всех чисел кроме нуля и на его месте\n",
    "    if A.count(0) > 0:\n",
    "        if A.count(0) > 1:\n",
    "            return [0] * len(A)\n",
    "        \n",
    "        ind = A.index(0)\n",
    "        A.remove(0)\n",
    "        for i in A:\n",
    "            multiply *= i\n",
    "        return [0] * ind + [multiply] + [0] * (len(A) - ind)\n",
    "        \n",
    "    for i in A:\n",
    "        multiply *= i\n",
    "        \n",
    "    return [multiply // A[i] for i in range(len(A))]"
   ]
  },
  {
   "cell_type": "code",
   "execution_count": 89,
   "id": "0d060e89",
   "metadata": {},
   "outputs": [
    {
     "data": {
      "text/plain": [
       "[]"
      ]
     },
     "execution_count": 89,
     "metadata": {},
     "output_type": "execute_result"
    }
   ],
   "source": [
    "A = [0]\n",
    "multiplicate(A)"
   ]
  },
  {
   "cell_type": "code",
   "execution_count": 91,
   "id": "9c37260f",
   "metadata": {},
   "outputs": [
    {
     "data": {
      "text/plain": [
       "[]"
      ]
     },
     "execution_count": 91,
     "metadata": {},
     "output_type": "execute_result"
    }
   ],
   "source": [
    "A = [3]\n",
    "multiplicate(A)"
   ]
  },
  {
   "cell_type": "code",
   "execution_count": 92,
   "id": "76c52e80",
   "metadata": {},
   "outputs": [
    {
     "data": {
      "text/plain": [
       "[0, 1]"
      ]
     },
     "execution_count": 92,
     "metadata": {},
     "output_type": "execute_result"
    }
   ],
   "source": [
    "A = [1, 0]\n",
    "multiplicate(A)"
   ]
  },
  {
   "cell_type": "code",
   "execution_count": 88,
   "id": "29e2ad29",
   "metadata": {},
   "outputs": [
    {
     "data": {
      "text/plain": [
       "[1, 0]"
      ]
     },
     "execution_count": 88,
     "metadata": {},
     "output_type": "execute_result"
    }
   ],
   "source": [
    "A = [0, 1]\n",
    "multiplicate(A)"
   ]
  },
  {
   "cell_type": "code",
   "execution_count": 81,
   "id": "77623f65",
   "metadata": {},
   "outputs": [
    {
     "data": {
      "text/plain": [
       "[6, 3, 2]"
      ]
     },
     "execution_count": 81,
     "metadata": {},
     "output_type": "execute_result"
    }
   ],
   "source": [
    "A = [1, 2, 3]\n",
    "multiplicate(A)"
   ]
  },
  {
   "cell_type": "code",
   "execution_count": 83,
   "id": "e92b5de0",
   "metadata": {},
   "outputs": [
    {
     "data": {
      "text/plain": [
       "[6, 0, 0]"
      ]
     },
     "execution_count": 83,
     "metadata": {},
     "output_type": "execute_result"
    }
   ],
   "source": [
    "A = [0, 2, 3]\n",
    "multiplicate(A)"
   ]
  },
  {
   "cell_type": "code",
   "execution_count": 84,
   "id": "20b19c34",
   "metadata": {},
   "outputs": [
    {
     "data": {
      "text/plain": [
       "[0, 0, 6]"
      ]
     },
     "execution_count": 84,
     "metadata": {},
     "output_type": "execute_result"
    }
   ],
   "source": [
    "A = [3, 2, 0]\n",
    "multiplicate(A)"
   ]
  },
  {
   "cell_type": "code",
   "execution_count": 85,
   "id": "97ff885e",
   "metadata": {},
   "outputs": [
    {
     "data": {
      "text/plain": [
       "[0, 0, 0, 0]"
      ]
     },
     "execution_count": 85,
     "metadata": {},
     "output_type": "execute_result"
    }
   ],
   "source": [
    "A = [0, 3, 2, 0]\n",
    "multiplicate(A)"
   ]
  },
  {
   "cell_type": "code",
   "execution_count": 86,
   "id": "362945e1",
   "metadata": {},
   "outputs": [
    {
     "data": {
      "text/plain": [
       "[0, 0, 0, 0]"
      ]
     },
     "execution_count": 86,
     "metadata": {},
     "output_type": "execute_result"
    }
   ],
   "source": [
    "A = [2, 0, 0, 3]\n",
    "multiplicate(A)"
   ]
  },
  {
   "cell_type": "code",
   "execution_count": 94,
   "id": "ed193924",
   "metadata": {},
   "outputs": [
    {
     "data": {
      "text/plain": [
       "[-2, 0, 0]"
      ]
     },
     "execution_count": 94,
     "metadata": {},
     "output_type": "execute_result"
    }
   ],
   "source": [
    "A = [0, -1, 2]\n",
    "multiplicate(A)"
   ]
  },
  {
   "cell_type": "code",
   "execution_count": 97,
   "id": "45b254a4",
   "metadata": {},
   "outputs": [
    {
     "data": {
      "text/plain": [
       "[-6, -3, 2]"
      ]
     },
     "execution_count": 97,
     "metadata": {},
     "output_type": "execute_result"
    }
   ],
   "source": [
    "A = [-1, -2, 3]\n",
    "multiplicate(A)"
   ]
  }
 ],
 "metadata": {
  "kernelspec": {
   "display_name": "Python 3",
   "language": "python",
   "name": "python3"
  },
  "language_info": {
   "codemirror_mode": {
    "name": "ipython",
    "version": 3
   },
   "file_extension": ".py",
   "mimetype": "text/x-python",
   "name": "python",
   "nbconvert_exporter": "python",
   "pygments_lexer": "ipython3",
   "version": "3.8.8"
  }
 },
 "nbformat": 4,
 "nbformat_minor": 5
}
